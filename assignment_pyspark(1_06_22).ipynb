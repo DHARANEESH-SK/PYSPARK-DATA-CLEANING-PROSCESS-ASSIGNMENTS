{
  "nbformat": 4,
  "nbformat_minor": 0,
  "metadata": {
    "colab": {
      "name": "assignment pyspark(1/06/22).ipynb",
      "provenance": []
    },
    "kernelspec": {
      "name": "python3",
      "display_name": "Python 3"
    },
    "language_info": {
      "name": "python"
    }
  },
  "cells": [
    {
      "cell_type": "code",
      "execution_count": 5,
      "metadata": {
        "colab": {
          "base_uri": "https://localhost:8080/"
        },
        "id": "EkIpnIOHBi2i",
        "outputId": "fd46a288-9ac9-4c54-f1a9-dd99e1d19b20"
      },
      "outputs": [
        {
          "output_type": "stream",
          "name": "stdout",
          "text": [
            "Looking in indexes: https://pypi.org/simple, https://us-python.pkg.dev/colab-wheels/public/simple/\n",
            "Requirement already satisfied: pyspark in /usr/local/lib/python3.7/dist-packages (3.2.1)\n",
            "Requirement already satisfied: py4j==0.10.9.3 in /usr/local/lib/python3.7/dist-packages (from pyspark) (0.10.9.3)\n"
          ]
        }
      ],
      "source": [
        "!pip install pyspark"
      ]
    },
    {
      "cell_type": "code",
      "source": [
        "!pip install findspark\n",
        "import findspark\n",
        "findspark.init()\n",
        "import pyspark\n",
        "import findspark\n",
        "from pyspark.sql import SparkSession\n",
        "from pyspark.sql.types import Row\n",
        "from pyspark.sql.functions import col"
      ],
      "metadata": {
        "colab": {
          "base_uri": "https://localhost:8080/"
        },
        "id": "ScTGn-85BygK",
        "outputId": "56c33683-8f1b-4c28-9000-4d47f7e9839b"
      },
      "execution_count": 6,
      "outputs": [
        {
          "output_type": "stream",
          "name": "stdout",
          "text": [
            "Looking in indexes: https://pypi.org/simple, https://us-python.pkg.dev/colab-wheels/public/simple/\n",
            "Requirement already satisfied: findspark in /usr/local/lib/python3.7/dist-packages (2.0.1)\n"
          ]
        }
      ]
    },
    {
      "cell_type": "code",
      "source": [
        "spark = SparkSession.builder.appName('Dharaneesh').getOrCreate()"
      ],
      "metadata": {
        "id": "hjS7BvKCCjbc"
      },
      "execution_count": 4,
      "outputs": []
    },
    {
      "cell_type": "code",
      "source": [
        "raw_data= spark.read.option(\"header\", \"true\").option(\"mode\", \"DROPMALFORMED\").option(\"inferSchema\", 'True').csv('/content/AppleStore.csv')"
      ],
      "metadata": {
        "id": "eOf_9-4wQLkE"
      },
      "execution_count": 7,
      "outputs": []
    },
    {
      "cell_type": "code",
      "source": [
        "raw_data.printSchema()"
      ],
      "metadata": {
        "colab": {
          "base_uri": "https://localhost:8080/"
        },
        "id": "H00Uyh3tQow0",
        "outputId": "fff4573a-e1ca-45dc-f514-21cad1337515"
      },
      "execution_count": 8,
      "outputs": [
        {
          "output_type": "stream",
          "name": "stdout",
          "text": [
            "root\n",
            " |-- id: integer (nullable = true)\n",
            " |-- app_name: string (nullable = true)\n",
            " |-- size_bytes: long (nullable = true)\n",
            " |-- currency: string (nullable = true)\n",
            " |-- price: double (nullable = true)\n",
            " |-- rating_count_tot: integer (nullable = true)\n",
            " |-- rating_count_ver: integer (nullable = true)\n",
            " |-- user_rating: double (nullable = true)\n",
            " |-- user_rating_ver: double (nullable = true)\n",
            " |-- ver: string (nullable = true)\n",
            " |-- cont_rating: string (nullable = true)\n",
            " |-- prime_genre: string (nullable = true)\n",
            " |-- sup_devices.num: integer (nullable = true)\n",
            " |-- ipadSc_urls.num: integer (nullable = true)\n",
            " |-- lang.num: integer (nullable = true)\n",
            " |-- vpp_lic: integer (nullable = true)\n",
            "\n"
          ]
        }
      ]
    },
    {
      "cell_type": "markdown",
      "source": [
        "Q1. The app size is provided to us in bytes. Create a new column 'AppSizeMbs'Convert the bytes to MB's"
      ],
      "metadata": {
        "id": "kKRuISJHTqVi"
      }
    },
    {
      "cell_type": "code",
      "source": [
        "data= raw_data.withColumn(\"AppSizeMbs\",raw_data.size_bytes/1000000)\n",
        "data.show(5)"
      ],
      "metadata": {
        "colab": {
          "base_uri": "https://localhost:8080/"
        },
        "id": "GG5nXf6jThTu",
        "outputId": "d937e38e-5b72-499d-8e2b-d1fe80d0c9c1"
      },
      "execution_count": 10,
      "outputs": [
        {
          "output_type": "stream",
          "name": "stdout",
          "text": [
            "+---------+--------------------+----------+--------+-----+----------------+----------------+-----------+---------------+------+-----------+------------+---------------+---------------+--------+-------+----------+\n",
            "|       id|            app_name|size_bytes|currency|price|rating_count_tot|rating_count_ver|user_rating|user_rating_ver|   ver|cont_rating| prime_genre|sup_devices.num|ipadSc_urls.num|lang.num|vpp_lic|AppSizeMbs|\n",
            "+---------+--------------------+----------+--------+-----+----------------+----------------+-----------+---------------+------+-----------+------------+---------------+---------------+--------+-------+----------+\n",
            "|281656475|     PAC-MAN Premium| 100788224|     USD| 3.99|           21292|              26|        4.0|            4.5| 6.3.5|         4+|       Games|             38|              5|      10|      1|100.788224|\n",
            "|281796108|Evernote - stay o...| 158578688|     USD|  0.0|          161065|              26|        4.0|            3.5| 8.2.2|         4+|Productivity|             37|              5|      23|      1|158.578688|\n",
            "|281940292|WeatherBug - Loca...| 100524032|     USD|  0.0|          188583|            2822|        3.5|            4.5| 5.0.0|         4+|     Weather|             37|              5|       3|      1|100.524032|\n",
            "|282614216|eBay: Best App to...| 128512000|     USD|  0.0|          262241|             649|        4.0|            4.5|5.10.0|        12+|    Shopping|             37|              5|       9|      1|   128.512|\n",
            "|282935706|               Bible|  92774400|     USD|  0.0|          985920|            5320|        4.5|            5.0| 7.5.1|         4+|   Reference|             37|              5|      45|      1|   92.7744|\n",
            "+---------+--------------------+----------+--------+-----+----------------+----------------+-----------+---------------+------+-----------+------------+---------------+---------------+--------+-------+----------+\n",
            "only showing top 5 rows\n",
            "\n"
          ]
        }
      ]
    },
    {
      "cell_type": "code",
      "source": [
        "data.toPandas().head(5)"
      ],
      "metadata": {
        "colab": {
          "base_uri": "https://localhost:8080/",
          "height": 461
        },
        "id": "2SAAnQ7iT33P",
        "outputId": "64810f74-0e8d-47d8-bbb1-6ca6dc5991d5"
      },
      "execution_count": 11,
      "outputs": [
        {
          "output_type": "execute_result",
          "data": {
            "text/plain": [
              "          id                                           app_name  size_bytes  \\\n",
              "0  281656475                                    PAC-MAN Premium   100788224   \n",
              "1  281796108                          Evernote - stay organized   158578688   \n",
              "2  281940292    WeatherBug - Local Weather, Radar, Maps, Alerts   100524032   \n",
              "3  282614216  eBay: Best App to Buy, Sell, Save! Online Shop...   128512000   \n",
              "4  282935706                                              Bible    92774400   \n",
              "\n",
              "  currency  price  rating_count_tot  rating_count_ver  user_rating  \\\n",
              "0      USD   3.99             21292                26          4.0   \n",
              "1      USD   0.00            161065                26          4.0   \n",
              "2      USD   0.00            188583              2822          3.5   \n",
              "3      USD   0.00            262241               649          4.0   \n",
              "4      USD   0.00            985920              5320          4.5   \n",
              "\n",
              "   user_rating_ver     ver cont_rating   prime_genre  sup_devices.num  \\\n",
              "0              4.5   6.3.5          4+         Games               38   \n",
              "1              3.5   8.2.2          4+  Productivity               37   \n",
              "2              4.5   5.0.0          4+       Weather               37   \n",
              "3              4.5  5.10.0         12+      Shopping               37   \n",
              "4              5.0   7.5.1          4+     Reference               37   \n",
              "\n",
              "   ipadSc_urls.num  lang.num  vpp_lic  AppSizeMbs  \n",
              "0                5        10        1  100.788224  \n",
              "1                5        23        1  158.578688  \n",
              "2                5         3        1  100.524032  \n",
              "3                5         9        1  128.512000  \n",
              "4                5        45        1   92.774400  "
            ],
            "text/html": [
              "\n",
              "  <div id=\"df-35442729-1765-4358-94c2-06f3c3cb4606\">\n",
              "    <div class=\"colab-df-container\">\n",
              "      <div>\n",
              "<style scoped>\n",
              "    .dataframe tbody tr th:only-of-type {\n",
              "        vertical-align: middle;\n",
              "    }\n",
              "\n",
              "    .dataframe tbody tr th {\n",
              "        vertical-align: top;\n",
              "    }\n",
              "\n",
              "    .dataframe thead th {\n",
              "        text-align: right;\n",
              "    }\n",
              "</style>\n",
              "<table border=\"1\" class=\"dataframe\">\n",
              "  <thead>\n",
              "    <tr style=\"text-align: right;\">\n",
              "      <th></th>\n",
              "      <th>id</th>\n",
              "      <th>app_name</th>\n",
              "      <th>size_bytes</th>\n",
              "      <th>currency</th>\n",
              "      <th>price</th>\n",
              "      <th>rating_count_tot</th>\n",
              "      <th>rating_count_ver</th>\n",
              "      <th>user_rating</th>\n",
              "      <th>user_rating_ver</th>\n",
              "      <th>ver</th>\n",
              "      <th>cont_rating</th>\n",
              "      <th>prime_genre</th>\n",
              "      <th>sup_devices.num</th>\n",
              "      <th>ipadSc_urls.num</th>\n",
              "      <th>lang.num</th>\n",
              "      <th>vpp_lic</th>\n",
              "      <th>AppSizeMbs</th>\n",
              "    </tr>\n",
              "  </thead>\n",
              "  <tbody>\n",
              "    <tr>\n",
              "      <th>0</th>\n",
              "      <td>281656475</td>\n",
              "      <td>PAC-MAN Premium</td>\n",
              "      <td>100788224</td>\n",
              "      <td>USD</td>\n",
              "      <td>3.99</td>\n",
              "      <td>21292</td>\n",
              "      <td>26</td>\n",
              "      <td>4.0</td>\n",
              "      <td>4.5</td>\n",
              "      <td>6.3.5</td>\n",
              "      <td>4+</td>\n",
              "      <td>Games</td>\n",
              "      <td>38</td>\n",
              "      <td>5</td>\n",
              "      <td>10</td>\n",
              "      <td>1</td>\n",
              "      <td>100.788224</td>\n",
              "    </tr>\n",
              "    <tr>\n",
              "      <th>1</th>\n",
              "      <td>281796108</td>\n",
              "      <td>Evernote - stay organized</td>\n",
              "      <td>158578688</td>\n",
              "      <td>USD</td>\n",
              "      <td>0.00</td>\n",
              "      <td>161065</td>\n",
              "      <td>26</td>\n",
              "      <td>4.0</td>\n",
              "      <td>3.5</td>\n",
              "      <td>8.2.2</td>\n",
              "      <td>4+</td>\n",
              "      <td>Productivity</td>\n",
              "      <td>37</td>\n",
              "      <td>5</td>\n",
              "      <td>23</td>\n",
              "      <td>1</td>\n",
              "      <td>158.578688</td>\n",
              "    </tr>\n",
              "    <tr>\n",
              "      <th>2</th>\n",
              "      <td>281940292</td>\n",
              "      <td>WeatherBug - Local Weather, Radar, Maps, Alerts</td>\n",
              "      <td>100524032</td>\n",
              "      <td>USD</td>\n",
              "      <td>0.00</td>\n",
              "      <td>188583</td>\n",
              "      <td>2822</td>\n",
              "      <td>3.5</td>\n",
              "      <td>4.5</td>\n",
              "      <td>5.0.0</td>\n",
              "      <td>4+</td>\n",
              "      <td>Weather</td>\n",
              "      <td>37</td>\n",
              "      <td>5</td>\n",
              "      <td>3</td>\n",
              "      <td>1</td>\n",
              "      <td>100.524032</td>\n",
              "    </tr>\n",
              "    <tr>\n",
              "      <th>3</th>\n",
              "      <td>282614216</td>\n",
              "      <td>eBay: Best App to Buy, Sell, Save! Online Shop...</td>\n",
              "      <td>128512000</td>\n",
              "      <td>USD</td>\n",
              "      <td>0.00</td>\n",
              "      <td>262241</td>\n",
              "      <td>649</td>\n",
              "      <td>4.0</td>\n",
              "      <td>4.5</td>\n",
              "      <td>5.10.0</td>\n",
              "      <td>12+</td>\n",
              "      <td>Shopping</td>\n",
              "      <td>37</td>\n",
              "      <td>5</td>\n",
              "      <td>9</td>\n",
              "      <td>1</td>\n",
              "      <td>128.512000</td>\n",
              "    </tr>\n",
              "    <tr>\n",
              "      <th>4</th>\n",
              "      <td>282935706</td>\n",
              "      <td>Bible</td>\n",
              "      <td>92774400</td>\n",
              "      <td>USD</td>\n",
              "      <td>0.00</td>\n",
              "      <td>985920</td>\n",
              "      <td>5320</td>\n",
              "      <td>4.5</td>\n",
              "      <td>5.0</td>\n",
              "      <td>7.5.1</td>\n",
              "      <td>4+</td>\n",
              "      <td>Reference</td>\n",
              "      <td>37</td>\n",
              "      <td>5</td>\n",
              "      <td>45</td>\n",
              "      <td>1</td>\n",
              "      <td>92.774400</td>\n",
              "    </tr>\n",
              "  </tbody>\n",
              "</table>\n",
              "</div>\n",
              "      <button class=\"colab-df-convert\" onclick=\"convertToInteractive('df-35442729-1765-4358-94c2-06f3c3cb4606')\"\n",
              "              title=\"Convert this dataframe to an interactive table.\"\n",
              "              style=\"display:none;\">\n",
              "        \n",
              "  <svg xmlns=\"http://www.w3.org/2000/svg\" height=\"24px\"viewBox=\"0 0 24 24\"\n",
              "       width=\"24px\">\n",
              "    <path d=\"M0 0h24v24H0V0z\" fill=\"none\"/>\n",
              "    <path d=\"M18.56 5.44l.94 2.06.94-2.06 2.06-.94-2.06-.94-.94-2.06-.94 2.06-2.06.94zm-11 1L8.5 8.5l.94-2.06 2.06-.94-2.06-.94L8.5 2.5l-.94 2.06-2.06.94zm10 10l.94 2.06.94-2.06 2.06-.94-2.06-.94-.94-2.06-.94 2.06-2.06.94z\"/><path d=\"M17.41 7.96l-1.37-1.37c-.4-.4-.92-.59-1.43-.59-.52 0-1.04.2-1.43.59L10.3 9.45l-7.72 7.72c-.78.78-.78 2.05 0 2.83L4 21.41c.39.39.9.59 1.41.59.51 0 1.02-.2 1.41-.59l7.78-7.78 2.81-2.81c.8-.78.8-2.07 0-2.86zM5.41 20L4 18.59l7.72-7.72 1.47 1.35L5.41 20z\"/>\n",
              "  </svg>\n",
              "      </button>\n",
              "      \n",
              "  <style>\n",
              "    .colab-df-container {\n",
              "      display:flex;\n",
              "      flex-wrap:wrap;\n",
              "      gap: 12px;\n",
              "    }\n",
              "\n",
              "    .colab-df-convert {\n",
              "      background-color: #E8F0FE;\n",
              "      border: none;\n",
              "      border-radius: 50%;\n",
              "      cursor: pointer;\n",
              "      display: none;\n",
              "      fill: #1967D2;\n",
              "      height: 32px;\n",
              "      padding: 0 0 0 0;\n",
              "      width: 32px;\n",
              "    }\n",
              "\n",
              "    .colab-df-convert:hover {\n",
              "      background-color: #E2EBFA;\n",
              "      box-shadow: 0px 1px 2px rgba(60, 64, 67, 0.3), 0px 1px 3px 1px rgba(60, 64, 67, 0.15);\n",
              "      fill: #174EA6;\n",
              "    }\n",
              "\n",
              "    [theme=dark] .colab-df-convert {\n",
              "      background-color: #3B4455;\n",
              "      fill: #D2E3FC;\n",
              "    }\n",
              "\n",
              "    [theme=dark] .colab-df-convert:hover {\n",
              "      background-color: #434B5C;\n",
              "      box-shadow: 0px 1px 3px 1px rgba(0, 0, 0, 0.15);\n",
              "      filter: drop-shadow(0px 1px 2px rgba(0, 0, 0, 0.3));\n",
              "      fill: #FFFFFF;\n",
              "    }\n",
              "  </style>\n",
              "\n",
              "      <script>\n",
              "        const buttonEl =\n",
              "          document.querySelector('#df-35442729-1765-4358-94c2-06f3c3cb4606 button.colab-df-convert');\n",
              "        buttonEl.style.display =\n",
              "          google.colab.kernel.accessAllowed ? 'block' : 'none';\n",
              "\n",
              "        async function convertToInteractive(key) {\n",
              "          const element = document.querySelector('#df-35442729-1765-4358-94c2-06f3c3cb4606');\n",
              "          const dataTable =\n",
              "            await google.colab.kernel.invokeFunction('convertToInteractive',\n",
              "                                                     [key], {});\n",
              "          if (!dataTable) return;\n",
              "\n",
              "          const docLinkHtml = 'Like what you see? Visit the ' +\n",
              "            '<a target=\"_blank\" href=https://colab.research.google.com/notebooks/data_table.ipynb>data table notebook</a>'\n",
              "            + ' to learn more about interactive tables.';\n",
              "          element.innerHTML = '';\n",
              "          dataTable['output_type'] = 'display_data';\n",
              "          await google.colab.output.renderOutput(dataTable, element);\n",
              "          const docLink = document.createElement('div');\n",
              "          docLink.innerHTML = docLinkHtml;\n",
              "          element.appendChild(docLink);\n",
              "        }\n",
              "      </script>\n",
              "    </div>\n",
              "  </div>\n",
              "  "
            ]
          },
          "metadata": {},
          "execution_count": 11
        }
      ]
    },
    {
      "cell_type": "markdown",
      "source": [
        "Q.2 List the top 20 most rated apps. Make sure to show full app name."
      ],
      "metadata": {
        "id": "Z3KQvv-bUXrH"
      }
    },
    {
      "cell_type": "code",
      "source": [
        "data.select('app_name', 'rating_count_tot').sort(data.rating_count_tot.desc()).show(20,False)"
      ],
      "metadata": {
        "colab": {
          "base_uri": "https://localhost:8080/"
        },
        "id": "JJLnGOZqUJaq",
        "outputId": "aa0d39fc-b56a-4454-c62d-355841f6e64d"
      },
      "execution_count": 12,
      "outputs": [
        {
          "output_type": "stream",
          "name": "stdout",
          "text": [
            "+-----------------------------------+----------------+\n",
            "|app_name                           |rating_count_tot|\n",
            "+-----------------------------------+----------------+\n",
            "|Facebook                           |2974676         |\n",
            "|Instagram                          |2161558         |\n",
            "|Clash of Clans                     |2130805         |\n",
            "|Temple Run                         |1724546         |\n",
            "|Pandora - Music & Radio            |1126879         |\n",
            "|Pinterest                          |1061624         |\n",
            "|Bible                              |985920          |\n",
            "|Candy Crush Saga                   |961794          |\n",
            "|Spotify Music                      |878563          |\n",
            "|Angry Birds                        |824451          |\n",
            "|Subway Surfers                     |706110          |\n",
            "|Fruit Ninja Classic                |698516          |\n",
            "|Solitaire                          |679055          |\n",
            "|CSR Racing                         |677247          |\n",
            "|Crossy Road - Endless Arcade Hopper|669079          |\n",
            "|Injustice: Gods Among Us           |612532          |\n",
            "|Hay Day                            |567344          |\n",
            "|Clear Vision (17+)                 |541693          |\n",
            "|Minecraft: Pocket Edition          |522012          |\n",
            "|PAC-MAN                            |508808          |\n",
            "+-----------------------------------+----------------+\n",
            "only showing top 20 rows\n",
            "\n"
          ]
        }
      ]
    },
    {
      "cell_type": "markdown",
      "source": [
        "Q.3 What % of the apps has multiple language support."
      ],
      "metadata": {
        "id": "PuSVWMm_Un8n"
      }
    },
    {
      "cell_type": "code",
      "source": [
        "data = data.toDF(*(c.replace('.', '_') for c in data.columns))\n",
        "data.filter(data.lang_num > 1).count() * 100 / data.count()"
      ],
      "metadata": {
        "colab": {
          "base_uri": "https://localhost:8080/"
        },
        "id": "tZtcznF-UhTw",
        "outputId": "a1500181-cca2-4488-eedc-ce2136b686ad"
      },
      "execution_count": 13,
      "outputs": [
        {
          "output_type": "execute_result",
          "data": {
            "text/plain": [
              "47.08906488814784"
            ]
          },
          "metadata": {},
          "execution_count": 13
        }
      ]
    },
    {
      "cell_type": "markdown",
      "source": [
        "Datasets for Q.4"
      ],
      "metadata": {
        "id": "PbCYZh3dVQbJ"
      }
    },
    {
      "cell_type": "code",
      "source": [
        "aisles = spark.read.option(\"header\", \"true\").option(\"inferSchema\", 'True').csv(\"/content/aisles.csv\")"
      ],
      "metadata": {
        "id": "rSaS3puiU2HQ"
      },
      "execution_count": 14,
      "outputs": []
    },
    {
      "cell_type": "code",
      "source": [
        "departments = spark.read.option(\"header\", \"true\").option(\"inferSchema\", 'true').csv('/content/departments.csv')"
      ],
      "metadata": {
        "id": "InoXrza-WUWf"
      },
      "execution_count": 15,
      "outputs": []
    },
    {
      "cell_type": "code",
      "source": [
        "products = spark.read.option(\"header\", \"true\").option(\"inferSchema\", 'True').csv(\"/content/products.csv\")"
      ],
      "metadata": {
        "id": "EoZJl27UWdzY"
      },
      "execution_count": 16,
      "outputs": []
    },
    {
      "cell_type": "code",
      "source": [
        "orders = spark.read.option(\"header\", \"true\").option(\"inferSchema\", 'True').csv(\"/content/orders.csv\")"
      ],
      "metadata": {
        "id": "niKfvKPjWk7j"
      },
      "execution_count": 17,
      "outputs": []
    },
    {
      "cell_type": "code",
      "source": [
        "orders_train = spark.read.option(\"header\",\"true\").option('inferSchema','true').csv('/content/order_products__train.csv')"
      ],
      "metadata": {
        "id": "5d-RyBfSWv6Q"
      },
      "execution_count": 21,
      "outputs": []
    },
    {
      "cell_type": "markdown",
      "source": [
        "Q4. Create a single table joining all the dataframes using common keys and print the number of observations."
      ],
      "metadata": {
        "id": "Zw1NwYk8Xuim"
      }
    },
    {
      "cell_type": "code",
      "source": [
        "data= products.join(aisles, aisles.aisle_id == products.aisle_id,\"left\").drop(aisles.aisle_id).join(departments, departments.department_id == products.department_id,\"left\").drop(departments.department_id).join(orders_train, orders_train.product_id == products.product_id,\"right\").drop(orders_train.product_id).join(orders, orders.order_id == orders_train.order_id, \"left\").drop(orders.order_id)\n",
        "data.count()"
      ],
      "metadata": {
        "colab": {
          "base_uri": "https://localhost:8080/"
        },
        "id": "8uoOqmqzXt_4",
        "outputId": "da23bc46-f7e5-4793-e2b4-e43e06438812"
      },
      "execution_count": 22,
      "outputs": [
        {
          "output_type": "execute_result",
          "data": {
            "text/plain": [
              "107205"
            ]
          },
          "metadata": {},
          "execution_count": 22
        }
      ]
    },
    {
      "cell_type": "markdown",
      "source": [
        "Q5. List the top 20 ordered products."
      ],
      "metadata": {
        "id": "iqzZqSOiZCZ5"
      }
    },
    {
      "cell_type": "code",
      "source": [
        "data.groupBy(\"product_name\").count().sort(col(\"count\").desc()).show(20,False)"
      ],
      "metadata": {
        "colab": {
          "base_uri": "https://localhost:8080/"
        },
        "id": "Si1A9yJyXfNY",
        "outputId": "90c53ef6-1d53-475a-cd54-0b307f583c86"
      },
      "execution_count": 23,
      "outputs": [
        {
          "output_type": "stream",
          "name": "stdout",
          "text": [
            "+----------------------+-----+\n",
            "|product_name          |count|\n",
            "+----------------------+-----+\n",
            "|Banana                |1423 |\n",
            "|Bag of Organic Bananas|1220 |\n",
            "|Organic Strawberries  |833  |\n",
            "|Organic Baby Spinach  |752  |\n",
            "|Large Lemon           |634  |\n",
            "|Organic Avocado       |593  |\n",
            "|Organic Hass Avocado  |541  |\n",
            "|Strawberries          |511  |\n",
            "|Limes                 |444  |\n",
            "|Organic Raspberries   |411  |\n",
            "|Organic Whole Milk    |394  |\n",
            "|Organic Cucumber      |372  |\n",
            "|Organic Blueberries   |364  |\n",
            "|Organic Zucchini      |340  |\n",
            "|Seedless Red Grapes   |321  |\n",
            "|Organic Grape Tomatoes|319  |\n",
            "|Organic Garlic        |319  |\n",
            "|Organic Yellow Onion  |318  |\n",
            "|Organic Red Onion     |306  |\n",
            "|Organic Baby Carrots  |296  |\n",
            "+----------------------+-----+\n",
            "only showing top 20 rows\n",
            "\n"
          ]
        }
      ]
    },
    {
      "cell_type": "markdown",
      "source": [
        "Q6. List top 20 products ordered between 8 am to 11 am."
      ],
      "metadata": {
        "id": "5YGmYDEvZfks"
      }
    },
    {
      "cell_type": "code",
      "source": [
        "data.filter(\"order_hour_of_day >= 8 and order_hour_of_day<=11\").groupBy(\"product_name\").count().sort(col(\"count\").desc()).show(20,False)"
      ],
      "metadata": {
        "colab": {
          "base_uri": "https://localhost:8080/"
        },
        "id": "kBg0IQORZJgP",
        "outputId": "7514f79c-1869-4343-da89-28496c2dc93f"
      },
      "execution_count": 24,
      "outputs": [
        {
          "output_type": "stream",
          "name": "stdout",
          "text": [
            "+---------------------------------+-----+\n",
            "|product_name                     |count|\n",
            "+---------------------------------+-----+\n",
            "|Banana                           |24   |\n",
            "|Organic Strawberries             |17   |\n",
            "|Bag of Organic Bananas           |12   |\n",
            "|Large Lemon                      |12   |\n",
            "|Organic Baby Spinach             |9    |\n",
            "|Broccoli Crown                   |8    |\n",
            "|Yellow Onions                    |8    |\n",
            "|Organic Gala Apples              |7    |\n",
            "|Organic Avocado                  |6    |\n",
            "|Organic Yellow Onion             |6    |\n",
            "|Organic Grape Tomatoes           |6    |\n",
            "|Organic Cucumber                 |6    |\n",
            "|Seedless Red Grapes              |6    |\n",
            "|Organic Unsweetened Almond Milk  |5    |\n",
            "|Limes                            |5    |\n",
            "|Organic Baby Arugula             |5    |\n",
            "|Organic Peeled Whole Baby Carrots|5    |\n",
            "|Organic Raspberries              |5    |\n",
            "|Organic Blueberries              |5    |\n",
            "|Organic Romaine Lettuce          |5    |\n",
            "+---------------------------------+-----+\n",
            "only showing top 20 rows\n",
            "\n"
          ]
        }
      ]
    }
  ]
}